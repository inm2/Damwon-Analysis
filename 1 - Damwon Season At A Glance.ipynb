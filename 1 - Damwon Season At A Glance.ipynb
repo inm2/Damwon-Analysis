{
 "cells": [
  {
   "cell_type": "markdown",
   "metadata": {},
   "source": [
    "# 1- DAMWON Season At a Glance\n",
    "\n",
    "For DAMWON Gaming, their shift in a middling spring split to incredibly dominant summer is a factor in my wanting to take a more detailed look at possible factors for this shift.\n",
    "\n",
    "After data collection and handling, the first true analytical step of the project is to see an overall snapshot of who played for Damwon during each split, how many games they played, position, and KDA, which is a metric to show a ratio of Kills + Assists / Deaths.\n",
    "\n",
    "At a glance, here are the records from Damwon's 2020 Run Key: Match Count (Game Count): \n",
    "- LCK Spring 2020 Regular Season: 9-9 (22-21) \n",
    "- 5th/10 Spr 2020 Playoffs: 1-1 (4-4)\n",
    "- 1st Summer 2020 Regular Season: 16-2 (34-5) \n",
    "- 1st Summer 2020 Playoffs: 1-0 (3-0) \n",
    "- 1st Worlds 2020\n",
    "\n",
    "## Handling Data\n",
    "For this project, I used the data provided by Oracle's Elixr, which had the data for each LoL esports entry. In the LCK, there are two regular seasons + playoffs, or splits, per year. At the time I started the project, I found the data for Damwon for Spring and Summer 2020 split (regular season and playoffs). I didn't include their domestic cup (KeSPA) or mid-season cup runs. Since the splits have importance on qualification for larger events (Mid-Season Invitational and Worlds), I felt the analysis should be limited to these two splits. The data was in CSV format, so I imported the data into MySQL.\n",
    "\n",
    "There's a vast amount of variables in the original database, so I will have a key for the ones I used.\n",
    "\n",
    "Here is an example of how to query the data in SQL:\n",
    "\n",
    "``` SELECT player, position, team, count(player) as appearances, sum(kills) as kills, sum(assists) as assists, sum(deaths) as deaths, (sum(kills)+sum(assists))/(sum(deaths)) as kda  \n",
    "FROM league.2020leagueinfo  \n",
    "WHERE league = \"LCK\" AND split = \"Summer\" and position = \"sup\"  \n",
    "GROUP BY player; ```\n",
    "\n"
   ]
  },
  {
   "cell_type": "code",
   "execution_count": 2,
   "metadata": {},
   "outputs": [],
   "source": [
    "#Import Dataset\n",
    "import pandas as pd\n",
    "import numpy as np\n",
    "import matplotlib\n",
    "import matplotlib.pyplot as plt"
   ]
  },
  {
   "cell_type": "markdown",
   "metadata": {},
   "source": [
    "## Variables\n",
    "\n",
    "To make the analysis easier, I filtered the entries of the original dataset to include \n",
    "The Damwon Spring and Damwon Summer CSVs have the following data and variables:\n",
    "- player: The name of the player\n",
    "- pos: Position/Role of the player. The roles are denoted as:\n",
    "     - bot: ADC\n",
    "     - top: Top Lane\n",
    "     - mid: Mid Lane\n",
    "     - jng: Jungle\n",
    "     - sup: Support\n",
    "- appearances: The amount of times a player has been in a game during the regular season and playoffs.\n",
    "- kills: Total amount of kills\n",
    "- assists: Total amount of assists\n",
    "- deaths: Total amount of deaths\n",
    "- kda: Ratio between (kills + assists)/deaths"
   ]
  },
  {
   "cell_type": "code",
   "execution_count": 3,
   "metadata": {},
   "outputs": [
    {
     "name": "stdout",
     "output_type": "stream",
     "text": [
      "DAMWON Spring Stats: \n",
      "\n",
      "      player position  appearances  kills  assists  deaths     kda\n",
      "0     Nuguri      top           51    145      228     162  2.3025\n",
      "1     Canyon      jng           51     78      302     127  2.9921\n",
      "2  ShowMaker      mid           51    148      242      88  4.4318\n",
      "3    Nuclear      bot           26     72       98      45  3.7778\n",
      "4       Hoit      sup           13      6       70      28  2.7143\n",
      "5      BeryL      sup           38     22      277     104  2.8750\n",
      "6      Ghost      bot           25     94      111      49  4.1837\n"
     ]
    }
   ],
   "source": [
    "#Uploading files\n",
    "spring = pd.read_csv(r'Damwon Spring.csv')\n",
    "summer = pd.read_csv(r'Damwon Summer.csv')\n",
    "\n",
    "print(\"DAMWON Spring Stats: \\n\")\n",
    "print(spring)"
   ]
  },
  {
   "cell_type": "code",
   "execution_count": 4,
   "metadata": {},
   "outputs": [
    {
     "name": "stdout",
     "output_type": "stream",
     "text": [
      "DAMWON Summer Stats: \n",
      "\n",
      "      player position  appearances  kills  assists  deaths      kda\n",
      "0     Nuguri      top           42    183      223      76   5.3421\n",
      "1     Canyon      jng           42    131      338      68   6.8971\n",
      "2  ShowMaker      mid           42    175      324      32  15.5938\n",
      "3      Ghost      bot           42    130      316      59   7.5593\n",
      "4      BeryL      sup           42     84      342      81   5.2593\n"
     ]
    }
   ],
   "source": [
    "#Summer Stats\n",
    "print(\"DAMWON Summer Stats: \\n\")\n",
    "print(summer)"
   ]
  },
  {
   "cell_type": "markdown",
   "metadata": {},
   "source": [
    "## Analysis\n",
    "\n",
    "From a quick glance at the Spring and Summer tables, only three players: Nuguri, Canyon, and ShowMaker, played in the maximum amount of games in both seasons (93). Looking at the [player transaction list for Damwon](https://lol.gamepedia.com/Hoit), Nuclear and Hoit were benched during the Spring season in favor of Ghost and BeryL.\n",
    "\n",
    "The tables below show the top players in terms of KDA for the spring season. The threshold for inclusion in the table is to appear in more than 30 games. With Damwon's dominance in the summer split, each player was in the top 2 for KDA.\n",
    "\n",
    "Spring 2020 (Regular Season + Playoffs)  \n",
    "| Player      | Position | Team | KDA  |  \n",
    "| ----------- | -------- |------|------|  \n",
    "| Teddy       | Bot      | T1   | 7.18 |  \n",
    "| Canna       | Top      | T1   | 6.16 |  \n",
    "| Bdd         | Mid      | GenG | 6.37 |  \n",
    "| Cuzz        | Jungle   | T1   | 6.88 |  \n",
    "| Life        | Support  | GenG | 4.83 |  \n",
    "\n",
    "\n",
    "While we can see that Damwon's players were dominant in the summer split, there's no true indicator presented above on what lead to that eventual dominance. In the next program, I will take a look at potential factors that go further into performance of some of the players at DAMWON to explain the success they had from Spring to Summer."
   ]
  }
 ],
 "metadata": {
  "kernelspec": {
   "display_name": "Python 3",
   "language": "python",
   "name": "python3"
  },
  "language_info": {
   "codemirror_mode": {
    "name": "ipython",
    "version": 3
   },
   "file_extension": ".py",
   "mimetype": "text/x-python",
   "name": "python",
   "nbconvert_exporter": "python",
   "pygments_lexer": "ipython3",
   "version": "3.7.3"
  }
 },
 "nbformat": 4,
 "nbformat_minor": 2
}
