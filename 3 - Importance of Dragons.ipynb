{
 "cells": [
  {
   "cell_type": "markdown",
   "metadata": {},
   "source": [
    "# 3 - Importance of Dragons and Barons\n",
    "\n",
    "[In the last project](https://github.com/inm2/Damwon-Analysis/blob/main/2%20-%20Factors%20of%20Dominance.ipynb), I showed how important of a factor gold is towards the performance of a team in League of Legends. In this project, I will look at how dragons independently factor into wins. [Dragons allow for different types of stat boosts in the game and influence the flow of the game.](https://leagueoflegends.fandom.com/wiki/Cloud_Drake) The first dragon spawns at the 5 minute mark and has a respawn timer of 5 minutes. \n",
    "\n",
    "To keep with the DAMWON Gaming theme, I used the following LCK Game Data:  \n",
    "- Spring Split (Regular Season and Playoffs): 238 Games\n",
    "- Summer Split (Regular Season and Playoffs): 225 Games\n",
    "- Regional Finals: 10 Games\n",
    "- Total: 473 Games\n",
    "\n",
    "For the initial process, I imported the primary data set aggregated and located on Oracle's Elixr. Since I had issues with importing team, dragons, and baron data on MySQL, I filtered through the data after the dataframe was created.\n",
    "\n",
    "In this project I looked at the following impacts in relation to match results:  \n",
    "- Taking the first dragon   \n",
    "- Dragon differential (DD)  \n",
    "- Barons  "
   ]
  },
  {
   "cell_type": "code",
   "execution_count": 10,
   "metadata": {},
   "outputs": [],
   "source": [
    "#Import Dataset\n",
    "import pandas as pd\n",
    "import numpy as np\n",
    "#I experienced false positives when creating new columns, so I added this line to remove the warnings\n",
    "pd.options.mode.chained_assignment = None  # default='warn'\n",
    "\n",
    "df = pd.read_csv(r'2020LeagueInfo.csv')"
   ]
  },
  {
   "cell_type": "code",
   "execution_count": 3,
   "metadata": {},
   "outputs": [],
   "source": [
    "#Filter by league and by position\n",
    "is_LCK = df.league == \"LCK\"\n",
    "is_team = df.position == \"team\"\n",
    "LCKteam_filter = is_LCK & is_team\n",
    "league = df[LCKteam_filter]"
   ]
  },
  {
   "cell_type": "markdown",
   "metadata": {},
   "source": [
    "## Taking the First Dragon\n",
    "\n",
    "In 2019, [Tim Sevenhuysen's Dragon Analysis](https://oracleselixir.com/blog/post/10689/early-game-rating-2-0) shows the importance of killing a dragon in the early stage of the game (~15 minutes). His analysis shows a difference of 1 dragon results in a 40-60% Win Rate. In the next two sections, I want to analyze, based off of the LCK data, how much of an impact taking the first dragon in the game has on its outcome, as well as do a reverification of the dragon differential on the 2020 LCK dataset.\n",
    "\n",
    "The value of dragons differ greatly, and I think that deserves it's own analysis on specific impact per time range. I don't have that metadata, so I am utilizing every dragon into one category.\n",
    "\n",
    "Based on the input data, the more challenging aspect was to figure out the logic in which to compare one metric to another, i.e. how to compare information from two teams?  \n",
    "\n",
    "In the source data, the information defines a team, or playerid, in a match as playerid = 100 (Team 1) or playerid = 200 (Team 2). The following code shows how many times Team 1, or playerid = 100, has won a match.\n",
    "\n",
    "The parameter result is binary and a 1 indicates a win, while 0 is a loss. \n",
    "\n",
    "Since the dataset has two entries, to account for both team's stats, per game, there is double the total amount of games (473 games * 2 = 946 rows). This value is represented as a null, or 0 = 473, to account for the other team's status."
   ]
  },
  {
   "cell_type": "code",
   "execution_count": 18,
   "metadata": {},
   "outputs": [
    {
     "name": "stdout",
     "output_type": "stream",
     "text": [
      "How many times has Team 1 won or lost?\n",
      "Team Status\n",
      "0             473\n",
      "Team1_lose    211\n",
      "Team1_win     262\n",
      "dtype: int64\n"
     ]
    }
   ],
   "source": [
    "#Teams are defined by playerid = 100 or 200, where 100 = Team 1 and 200 = Team 2\n",
    "conditions = [(league['playerid'] == 100) & (league['result'] == 1),\n",
    "              (league['playerid'] == 100) & (league['result'] == 0)]\n",
    "\n",
    "#Defines the conditions above \n",
    "values = ['Team1_win','Team1_lose']\n",
    "\n",
    "#Goes through the dataset to verify if the conditions are true or false\n",
    "#Creates a new column in the dataset\n",
    "league['Team Status'] = np.select(conditions, values)\n",
    "\n",
    "#Gets a count of the amount of times each condition appears in the created column \n",
    "print(\"How many times has Team 1 won or lost?\")\n",
    "print(league.groupby(['Team Status']).size())"
   ]
  },
  {
   "cell_type": "markdown",
   "metadata": {},
   "source": [
    "From the results above, Team 1 won 55% of the time. \n",
    "\n",
    "After this preliminary step, I wanted to go further and see how many times a team in general wins the game if they take the first dragon. \n",
    "\n",
    "The variable, 'firstdragon,' is also binary, where a 1 indicates that the team has taken the first dragon of the game."
   ]
  },
  {
   "cell_type": "code",
   "execution_count": 19,
   "metadata": {},
   "outputs": [
    {
     "name": "stdout",
     "output_type": "stream",
     "text": [
      "\n",
      "How many times does a team win if they get the first dragon?\n",
      "1st Dragon\n",
      "0                  473\n",
      "1st Dragon Loss    202\n",
      "1st Dragon Win     271\n",
      "dtype: int64\n"
     ]
    }
   ],
   "source": [
    "#What % of teams win if they get the first dragon\n",
    "conditions = [(league['firstdragon'] == 1) & (league['result'] == 1),\n",
    "              (league['firstdragon'] == 1) & (league['result'] == 0)]\n",
    "\n",
    "values = ['1st Dragon Win', '1st Dragon Loss']\n",
    "\n",
    "league['1st Dragon'] = np.select(conditions, values)\n",
    "print(\"\\nHow many times does a team win if they get the first dragon?\")\n",
    "print(league.groupby(['1st Dragon']).size())"
   ]
  },
  {
   "cell_type": "markdown",
   "metadata": {},
   "source": [
    "From the results above, a team that takes the first dragon wins 57.29% of the time. "
   ]
  },
  {
   "cell_type": "markdown",
   "metadata": {},
   "source": [
    "## Dragon Differential\n",
    "\n",
    "Dragon Differential (DD) is the difference between the amount of dragons Team 2 has slain vs the Team 1's amount. The purpose of this section is to show how likely a team is to win if they have a higher count of dragon's than their opponents. \n",
    "\n",
    "The code .diff() takes the amount of dragons Team 1 has and substracts it into the amount of dragons awarded to Team 2. \n",
    "\n",
    "Unlike the previous section, Team 2 will be the primary playerid and their result of the match (Win or Loss) will be taken. I divided the DD into three main categories, a positive DD (+Dragon), a neutral DD (Neutral), and a negative DD (-Dragon).\n",
    "\n",
    "Thus the logic can be broken down into the following condition statements:\n",
    "\n",
    "If Team 2 has a Win and a -DD (T2 Win (-Dragon)):  \n",
    "```(league['playerid'] == 200) & (league['result'] == 1) & (league['drag_diff'] < 0)```  \n",
    "\n",
    "If Team 2 has a Win and a +DD (T2 Win (+Dragon)):  \n",
    "```(league['playerid'] == 200) & (league['result'] == 1) & (league['drag_diff'] > 0)```\n",
    "\n",
    "If Team 2 has a Win and a neutral DD (T2 Win (Neutral)):  \n",
    "```(league['playerid'] == 200) & (league['result'] == 1) & (league['drag_diff'] == 0)```  \n",
    "\n",
    "If Team 2 has a Loss and a -DD (T1 Win (+Dragon)):  \n",
    "```(league['playerid'] == 200) & (league['result'] == 0) & (league['drag_diff'] < 0)``` \n",
    "\n",
    "If Team 2 has a Loss and a +DD (T1 Win (-Dragon)):  \n",
    "```(league['playerid'] == 200) & (league['result'] == 0) & (league['drag_diff'] > 0)```  \n",
    "\n",
    "If Team 2 has a Loss and a neutral DD (T1 Win (Neutral)):  \n",
    "```(league['playerid'] == 200) & (league['result'] == 0) & (league['drag_diff'] == 0)```  "
   ]
  },
  {
   "cell_type": "code",
   "execution_count": 15,
   "metadata": {},
   "outputs": [
    {
     "name": "stdout",
     "output_type": "stream",
     "text": [
      "Grouping the times Team 1 or 2 Won Based on Dragon Difference?\n",
      "WinDrag\n",
      "0                   473\n",
      "T1 Win (+Dragon)    191\n",
      "T1 Win (-Dragon)     38\n",
      "T1 Win (Neutral)     33\n",
      "T2 Win (+Dragon)    165\n",
      "T2 Win (-Dragon)     27\n",
      "T2 Win (Neutral)     19\n",
      "dtype: int64\n"
     ]
    }
   ],
   "source": [
    "#shift team 1 dragon rows to match team 2\n",
    "league['drag_diff'] = league['dragons'].diff()\n",
    "\n",
    "#Ignore Half the dataset\n",
    "#Team 2 Wins or Loses and Has a +,-,or neutral dragon difference\n",
    "conditions = [(league['playerid'] == 200) & (league['result'] == 1) & (league['drag_diff'] < 0),\n",
    "              (league['playerid'] == 200) & (league['result'] == 1) & (league['drag_diff'] > 0),\n",
    "              (league['playerid'] == 200) & (league['result'] == 1) & (league['drag_diff'] == 0),\n",
    "              (league['playerid'] == 200) & (league['result'] == 0) & (league['drag_diff'] < 0),\n",
    "              (league['playerid'] == 200) & (league['result'] == 0) & (league['drag_diff'] > 0),\n",
    "              (league['playerid'] == 200) & (league['result'] == 0) & (league['drag_diff'] == 0)]\n",
    "\n",
    "values = ['T2 Win (-Dragon)','T2 Win (+Dragon)', 'T2 Win (Neutral)', 'T1 Win (+Dragon)', 'T1 Win (-Dragon)', 'T1 Win (Neutral)']\n",
    "\n",
    "league['WinDrag'] = np.select(conditions, values)\n",
    "print(\"Grouping the times Team 1 or 2 Won Based on Dragon Difference?\")\n",
    "print(league.groupby(['WinDrag']).size())"
   ]
  },
  {
   "cell_type": "markdown",
   "metadata": {},
   "source": [
    "Combining the T1 Win (+Dragon) and T2 Win (+Dragon) categories (356 wins), in the LCK, having a positive dragon differential resulted in a win % of 75.26, indicating the importance of dragons alone. For future analysis, it might be worth looking into difference increments of DD to see the impact at that level."
   ]
  },
  {
   "cell_type": "markdown",
   "metadata": {},
   "source": [
    "## Barons\n",
    "\n",
    "Baron Nashoor is the most powerful monster in League of Legends. Taking out the monster nets a [large buff](https://leagueoflegends.fandom.com/wiki/Baron_Nashor_(League_of_Legends)) towards attack damage, ally minion damage, and more. Slaying a baron is important towards setting a team up for success in a game. \n",
    "\n",
    "Similar to Dragon Difference, Baron Difference, takes the barons Team 2 has and subtracts it by Team 1's. The logic is the same as the Dragon Difference. To show how the notation can be represented in the case of only Team 2's perspective, here are the following cases:\n",
    "\n",
    "Team 2 Wins with Negative Barons (T2 Win (-Baron)):    \n",
    "```(league['playerid'] == 200) & (league['result'] == 1) & (league['baron_diff'] < 0)```  \n",
    "\n",
    "Team 2 Wins with Positive Barons (T2 Win (+Baron)):    \n",
    "```(league['playerid'] == 200) & (league['result'] == 1) & (league['baron_diff'] > 0)```\n",
    "\n",
    "Team 2 Wins with Neutral Barons (T2 Win (Neutral)):  \n",
    "```(league['playerid'] == 200) & (league['result'] == 1) & (league['baron_diff'] == 0)```\n",
    "\n",
    "Team 2 Loses with Negative Barons a.k.a. Team 1 Wins with Positive Barons (T2 Loss (-Baron)):   \n",
    "```(league['playerid'] == 200) & (league['result'] == 0) & (league['baron_diff'] < 0)```\n",
    "\n",
    "Team 2 Loses with Positive Barons a.k.a. Team 1 Wins with Negative Batons (T2 Loss (+Baron)):    \n",
    "```(league['playerid'] == 200) & (league['result'] == 0) & (league['baron_diff'] > 0)```\n",
    "\n",
    "Team 2 Loses with Neutral Barons a.k.a. Team 1 Wins with Neutral Barons (T2 Loss (Neutral)):    \n",
    "```(league['playerid'] == 200) & (league['result'] == 0) & (league['baron_diff'] == 0)```"
   ]
  },
  {
   "cell_type": "code",
   "execution_count": 16,
   "metadata": {},
   "outputs": [
    {
     "name": "stdout",
     "output_type": "stream",
     "text": [
      "Grouping the times Team 1 or 2 Won Based on Baron Difference?\n",
      "WinBaron\n",
      "0                    473\n",
      "T2 Loss (+Baron)      21\n",
      "T2 Loss (-Baron)     181\n",
      "T2 Loss (Neutral)     60\n",
      "T2 Win (+Baron)      167\n",
      "T2 Win (-Baron)       14\n",
      "T2 Win (Neutral)      30\n",
      "dtype: int64\n"
     ]
    }
   ],
   "source": [
    "#Baron Analysis\n",
    "league['baron_diff'] = league['barons'].diff()\n",
    "conditions = [(league['playerid'] == 200) & (league['result'] == 1) & (league['baron_diff'] < 0),\n",
    "              (league['playerid'] == 200) & (league['result'] == 1) & (league['baron_diff'] > 0),\n",
    "              (league['playerid'] == 200) & (league['result'] == 1) & (league['baron_diff'] == 0),\n",
    "              (league['playerid'] == 200) & (league['result'] == 0) & (league['baron_diff'] < 0),\n",
    "              (league['playerid'] == 200) & (league['result'] == 0) & (league['baron_diff'] > 0),\n",
    "              (league['playerid'] == 200) & (league['result'] == 0) & (league['baron_diff'] == 0)]\n",
    "\n",
    "values = ['T2 Win (-Baron)','T2 Win (+Baron)', 'T2 Win (Neutral)', 'T2 Loss (-Baron)', 'T2 Loss (+Baron)', 'T2 Loss (Neutral)']\n",
    "\n",
    "league['WinBaron'] = np.select(conditions, values)\n",
    "print(\"Grouping the times Team 1 or 2 Won Based on Baron Difference?\")\n",
    "print(league.groupby(['WinBaron']).size())"
   ]
  },
  {
   "cell_type": "markdown",
   "metadata": {},
   "source": [
    "Combining the wins of Team 1 (T2 Loss (-Baron)) and Team 2 (T2 Win (+Baron)), which equals to 348, in the LCK, having a positive amount of Barons results in winning 73.57% of all games in the LCK, indicating barons are independently significant.\n",
    "\n",
    "Throughout this project and the previous one, I looked at the most important factors towards winning a game of League of Legends, Gold Difference, Dragons, and Barons. Now that I've looked at these individually, the final step is to do an analysis to determine if wins and losses can be predicted given this information. "
   ]
  }
 ],
 "metadata": {
  "kernelspec": {
   "display_name": "Python 3",
   "language": "python",
   "name": "python3"
  },
  "language_info": {
   "codemirror_mode": {
    "name": "ipython",
    "version": 3
   },
   "file_extension": ".py",
   "mimetype": "text/x-python",
   "name": "python",
   "nbconvert_exporter": "python",
   "pygments_lexer": "ipython3",
   "version": "3.7.3"
  }
 },
 "nbformat": 4,
 "nbformat_minor": 2
}
