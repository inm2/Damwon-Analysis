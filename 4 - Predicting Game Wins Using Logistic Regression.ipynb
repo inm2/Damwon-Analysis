{
 "cells": [
  {
   "cell_type": "markdown",
   "metadata": {},
   "source": [
    "# Predicting Game Wins Using Logistic Regression\n",
    "\n",
    "The last section of this project is to predict the results of all of the games in the LCK. \n",
    "\n",
    "I'm using binary data for output, so [logistic regression](https://realpython.com/logistic-regression-python/) is an easy method to classify wins or losses. \n",
    "\n",
    "To recap the previous sections, the most important factors that I could identify from a game of League of Legends is [Gold Difference](https://github.com/inm2/Damwon-Analysis/blob/main/2%20-%20Factors%20of%20Dominance.ipynb) and [Dragons and Barons](https://github.com/inm2/Damwon-Analysis/blob/main/3%20-%20Importance%20of%20Dragons.ipynb). Thus, the independent variables I used for the model are:\n",
    "- Gold Difference @ 15 minutes: I omitted Gold Difference at 10 minutes, since the shift into the late-stage starts around the 15 minute mark.   \n",
    "- Dragons  \n",
    "- Barons  \n",
    "\n",
    "The dependent variable is the result of the match, which is a binary classification of 0 for a loss and 1 for a win. \n",
    "\n",
    "The steps I took to create the model are:  \n",
    "- Step 1: Upload the dataset and filter to get the data I want    \n",
    "- Step 2: Declare independent and dependent variables  \n",
    "- Step 3: Split the data into train and test data  \n",
    "- Step 4: Create the logistic regression model  \n",
    "- Step 5: Evaluate the model  "
   ]
  },
  {
   "cell_type": "code",
   "execution_count": 4,
   "metadata": {},
   "outputs": [],
   "source": [
    "#import libraries\n",
    "import pandas as pd\n",
    "from sklearn.linear_model import LogisticRegression\n",
    "from sklearn.model_selection import train_test_split\n",
    "from sklearn import metrics\n",
    "pd.options.mode.chained_assignment = None  # default='warn'"
   ]
  },
  {
   "cell_type": "markdown",
   "metadata": {},
   "source": [
    "# Step 1: Upload and Filtering the Dataset \n",
    "\n",
    "For this project, I wanted to used regular season and playoff games from the LCK to get as much data as I can for the model. The column 'datacompleteness' indicates that the entire row entry is complete. On my first run of the model, I noticed that some of the entries were incomplete, so I filtered out that specific data. Overall, entries from 469 games are represented in the dataset. "
   ]
  },
  {
   "cell_type": "code",
   "execution_count": 5,
   "metadata": {},
   "outputs": [
    {
     "data": {
      "text/html": [
       "<div>\n",
       "<style scoped>\n",
       "    .dataframe tbody tr th:only-of-type {\n",
       "        vertical-align: middle;\n",
       "    }\n",
       "\n",
       "    .dataframe tbody tr th {\n",
       "        vertical-align: top;\n",
       "    }\n",
       "\n",
       "    .dataframe thead th {\n",
       "        text-align: right;\n",
       "    }\n",
       "</style>\n",
       "<table border=\"1\" class=\"dataframe\">\n",
       "  <thead>\n",
       "    <tr style=\"text-align: right;\">\n",
       "      <th></th>\n",
       "      <th>gameid</th>\n",
       "      <th>datacompleteness</th>\n",
       "      <th>url</th>\n",
       "      <th>league</th>\n",
       "      <th>year</th>\n",
       "      <th>split</th>\n",
       "      <th>playoffs</th>\n",
       "      <th>date</th>\n",
       "      <th>game</th>\n",
       "      <th>patch</th>\n",
       "      <th>...</th>\n",
       "      <th>csdiffat10</th>\n",
       "      <th>goldat15</th>\n",
       "      <th>xpat15</th>\n",
       "      <th>csat15</th>\n",
       "      <th>opp_goldat15</th>\n",
       "      <th>opp_xpat15</th>\n",
       "      <th>opp_csat15</th>\n",
       "      <th>golddiffat15</th>\n",
       "      <th>xpdiffat15</th>\n",
       "      <th>csdiffat15</th>\n",
       "    </tr>\n",
       "  </thead>\n",
       "  <tbody>\n",
       "    <tr>\n",
       "      <th>2410</th>\n",
       "      <td>ESPORTSTMNT01/1302595</td>\n",
       "      <td>complete</td>\n",
       "      <td>http://matchhistory.na.leagueoflegends.com/en/...</td>\n",
       "      <td>LCK</td>\n",
       "      <td>2020</td>\n",
       "      <td>Spring</td>\n",
       "      <td>0</td>\n",
       "      <td>2/5/2020 6:34</td>\n",
       "      <td>1</td>\n",
       "      <td>10.02</td>\n",
       "      <td>...</td>\n",
       "      <td>22.0</td>\n",
       "      <td>24661.0</td>\n",
       "      <td>31445.0</td>\n",
       "      <td>576.0</td>\n",
       "      <td>23452.0</td>\n",
       "      <td>29209.0</td>\n",
       "      <td>557.0</td>\n",
       "      <td>1209.0</td>\n",
       "      <td>2236.0</td>\n",
       "      <td>19.0</td>\n",
       "    </tr>\n",
       "    <tr>\n",
       "      <th>2411</th>\n",
       "      <td>ESPORTSTMNT01/1302595</td>\n",
       "      <td>complete</td>\n",
       "      <td>http://matchhistory.na.leagueoflegends.com/en/...</td>\n",
       "      <td>LCK</td>\n",
       "      <td>2020</td>\n",
       "      <td>Spring</td>\n",
       "      <td>0</td>\n",
       "      <td>2/5/2020 6:34</td>\n",
       "      <td>1</td>\n",
       "      <td>10.02</td>\n",
       "      <td>...</td>\n",
       "      <td>-22.0</td>\n",
       "      <td>23452.0</td>\n",
       "      <td>29209.0</td>\n",
       "      <td>557.0</td>\n",
       "      <td>24661.0</td>\n",
       "      <td>31445.0</td>\n",
       "      <td>576.0</td>\n",
       "      <td>-1209.0</td>\n",
       "      <td>-2236.0</td>\n",
       "      <td>-19.0</td>\n",
       "    </tr>\n",
       "    <tr>\n",
       "      <th>2422</th>\n",
       "      <td>ESPORTSTMNT01/1302628</td>\n",
       "      <td>complete</td>\n",
       "      <td>http://matchhistory.na.leagueoflegends.com/en/...</td>\n",
       "      <td>LCK</td>\n",
       "      <td>2020</td>\n",
       "      <td>Spring</td>\n",
       "      <td>0</td>\n",
       "      <td>2/5/2020 9:00</td>\n",
       "      <td>2</td>\n",
       "      <td>10.02</td>\n",
       "      <td>...</td>\n",
       "      <td>17.0</td>\n",
       "      <td>24740.0</td>\n",
       "      <td>30318.0</td>\n",
       "      <td>570.0</td>\n",
       "      <td>24285.0</td>\n",
       "      <td>30853.0</td>\n",
       "      <td>559.0</td>\n",
       "      <td>455.0</td>\n",
       "      <td>-535.0</td>\n",
       "      <td>11.0</td>\n",
       "    </tr>\n",
       "    <tr>\n",
       "      <th>2423</th>\n",
       "      <td>ESPORTSTMNT01/1302628</td>\n",
       "      <td>complete</td>\n",
       "      <td>http://matchhistory.na.leagueoflegends.com/en/...</td>\n",
       "      <td>LCK</td>\n",
       "      <td>2020</td>\n",
       "      <td>Spring</td>\n",
       "      <td>0</td>\n",
       "      <td>2/5/2020 9:00</td>\n",
       "      <td>2</td>\n",
       "      <td>10.02</td>\n",
       "      <td>...</td>\n",
       "      <td>-17.0</td>\n",
       "      <td>24285.0</td>\n",
       "      <td>30853.0</td>\n",
       "      <td>559.0</td>\n",
       "      <td>24740.0</td>\n",
       "      <td>30318.0</td>\n",
       "      <td>570.0</td>\n",
       "      <td>-455.0</td>\n",
       "      <td>535.0</td>\n",
       "      <td>-11.0</td>\n",
       "    </tr>\n",
       "    <tr>\n",
       "      <th>2434</th>\n",
       "      <td>ESPORTSTMNT01/1302635</td>\n",
       "      <td>complete</td>\n",
       "      <td>http://matchhistory.na.leagueoflegends.com/en/...</td>\n",
       "      <td>LCK</td>\n",
       "      <td>2020</td>\n",
       "      <td>Spring</td>\n",
       "      <td>0</td>\n",
       "      <td>2/5/2020 10:14</td>\n",
       "      <td>3</td>\n",
       "      <td>10.02</td>\n",
       "      <td>...</td>\n",
       "      <td>1.0</td>\n",
       "      <td>26333.0</td>\n",
       "      <td>29801.0</td>\n",
       "      <td>522.0</td>\n",
       "      <td>23574.0</td>\n",
       "      <td>28520.0</td>\n",
       "      <td>507.0</td>\n",
       "      <td>2759.0</td>\n",
       "      <td>1281.0</td>\n",
       "      <td>15.0</td>\n",
       "    </tr>\n",
       "  </tbody>\n",
       "</table>\n",
       "<p>5 rows × 104 columns</p>\n",
       "</div>"
      ],
      "text/plain": [
       "                     gameid datacompleteness  \\\n",
       "2410  ESPORTSTMNT01/1302595         complete   \n",
       "2411  ESPORTSTMNT01/1302595         complete   \n",
       "2422  ESPORTSTMNT01/1302628         complete   \n",
       "2423  ESPORTSTMNT01/1302628         complete   \n",
       "2434  ESPORTSTMNT01/1302635         complete   \n",
       "\n",
       "                                                    url league  year   split  \\\n",
       "2410  http://matchhistory.na.leagueoflegends.com/en/...    LCK  2020  Spring   \n",
       "2411  http://matchhistory.na.leagueoflegends.com/en/...    LCK  2020  Spring   \n",
       "2422  http://matchhistory.na.leagueoflegends.com/en/...    LCK  2020  Spring   \n",
       "2423  http://matchhistory.na.leagueoflegends.com/en/...    LCK  2020  Spring   \n",
       "2434  http://matchhistory.na.leagueoflegends.com/en/...    LCK  2020  Spring   \n",
       "\n",
       "      playoffs            date  game  patch  ...  csdiffat10 goldat15  \\\n",
       "2410         0   2/5/2020 6:34     1  10.02  ...        22.0  24661.0   \n",
       "2411         0   2/5/2020 6:34     1  10.02  ...       -22.0  23452.0   \n",
       "2422         0   2/5/2020 9:00     2  10.02  ...        17.0  24740.0   \n",
       "2423         0   2/5/2020 9:00     2  10.02  ...       -17.0  24285.0   \n",
       "2434         0  2/5/2020 10:14     3  10.02  ...         1.0  26333.0   \n",
       "\n",
       "       xpat15 csat15 opp_goldat15 opp_xpat15 opp_csat15 golddiffat15  \\\n",
       "2410  31445.0  576.0      23452.0    29209.0      557.0       1209.0   \n",
       "2411  29209.0  557.0      24661.0    31445.0      576.0      -1209.0   \n",
       "2422  30318.0  570.0      24285.0    30853.0      559.0        455.0   \n",
       "2423  30853.0  559.0      24740.0    30318.0      570.0       -455.0   \n",
       "2434  29801.0  522.0      23574.0    28520.0      507.0       2759.0   \n",
       "\n",
       "     xpdiffat15 csdiffat15  \n",
       "2410     2236.0       19.0  \n",
       "2411    -2236.0      -19.0  \n",
       "2422     -535.0       11.0  \n",
       "2423      535.0      -11.0  \n",
       "2434     1281.0       15.0  \n",
       "\n",
       "[5 rows x 104 columns]"
      ]
     },
     "execution_count": 5,
     "metadata": {},
     "output_type": "execute_result"
    }
   ],
   "source": [
    "#reading data\n",
    "df = pd.read_csv(r'D:\\Youtube\\Data Analysis\\2020LeagueInfo.csv')\n",
    "\n",
    "#Filter to only read data from Spring and Summer LCK teams + tournaments\n",
    "is_LCK = df.league == \"LCK\"\n",
    "is_team = df.position == \"team\"\n",
    "is_complete = df.datacompleteness == \"complete\"\n",
    "LCKteam_filter = is_LCK & is_team & is_complete\n",
    "league = df[LCKteam_filter]\n",
    "\n",
    "league.head()"
   ]
  },
  {
   "cell_type": "markdown",
   "metadata": {},
   "source": [
    "# Step 2: Declare Independent and Dependent Variables\n",
    "\n",
    "As mentioned in the introduction, I have three independent variables (x), Gold Difference at 15, the amount of barons a team has at the end of the game, and the amount of dragons a team has at the game.\n",
    "\n",
    "The dependent variable is the outcome of the match, result, which has values of either 0 or 1. "
   ]
  },
  {
   "cell_type": "code",
   "execution_count": 6,
   "metadata": {},
   "outputs": [],
   "source": [
    "feature_cols = ['golddiffat15', 'barons', 'dragons']\n",
    "x = league[feature_cols]\n",
    "y = league.result"
   ]
  },
  {
   "cell_type": "markdown",
   "metadata": {},
   "source": [
    "# Step 3: Split the Data into Train and Test Data \n",
    "\n",
    "In this step, I split the data into training and testing data. The purpose of having a split like this is to initially train the model to predict the outcome then independently verify the results using the test data.\n",
    "\n",
    "Initially, I split the data into 80% train / 20% test."
   ]
  },
  {
   "cell_type": "code",
   "execution_count": 7,
   "metadata": {},
   "outputs": [],
   "source": [
    "#Split set data into 80/20\n",
    "xtrain, xtest, ytrain, ytest = train_test_split(x,y,test_size=0.20,random_state=0)"
   ]
  },
  {
   "cell_type": "markdown",
   "metadata": {},
   "source": [
    "# Step 4: Create the Logistic Regression Model\n",
    "\n",
    "Finally, we are ready to create the logistic regression model. The coding for this is pretty simple; the training data is used to fit the data to the model. The prediction of the outcome, ypred, will give an outcome of 0 or 1."
   ]
  },
  {
   "cell_type": "code",
   "execution_count": 8,
   "metadata": {},
   "outputs": [
    {
     "name": "stderr",
     "output_type": "stream",
     "text": [
      "C:\\Users\\Ian\\Anaconda3\\lib\\site-packages\\sklearn\\linear_model\\logistic.py:432: FutureWarning: Default solver will be changed to 'lbfgs' in 0.22. Specify a solver to silence this warning.\n",
      "  FutureWarning)\n"
     ]
    }
   ],
   "source": [
    "#Create model and train it\n",
    "logreg = LogisticRegression()\n",
    "logreg.fit(xtrain, ytrain)\n",
    "\n",
    "ypred = logreg.predict(xtest)"
   ]
  },
  {
   "cell_type": "markdown",
   "metadata": {},
   "source": [
    "# Step 5: Evaluate the Model \n",
    "\n",
    "To make sure the model is functioning properly, a confusion matrix is needed. The confusion matrix represents a table of the predicted values (outcome) from the model and what the actual outcome of the model is. \n",
    "\n",
    "Accuracy (87%) shows how close the model is to the true data.\n",
    "\n",
    "Precision (89%) shows how often the model is correct.\n",
    "\n",
    "Recall (84%) shows how well the model can identify a true positive. "
   ]
  },
  {
   "cell_type": "code",
   "execution_count": 9,
   "metadata": {},
   "outputs": [
    {
     "name": "stdout",
     "output_type": "stream",
     "text": [
      "[[89  9]\n",
      " [14 76]]\n",
      "Accuracy: 0.8776595744680851\n",
      "Precision: 0.8941176470588236\n",
      "Recall: 0.8444444444444444\n"
     ]
    }
   ],
   "source": [
    "#Evaluate the model\n",
    "matrix = metrics.confusion_matrix(ytest, ypred)\n",
    "print(matrix)\n",
    "print(\"Accuracy:\",metrics.accuracy_score(ytest, ypred))\n",
    "print(\"Precision:\",metrics.precision_score(ytest, ypred))\n",
    "print(\"Recall:\",metrics.recall_score(ytest, ypred))"
   ]
  },
  {
   "cell_type": "markdown",
   "metadata": {},
   "source": [
    "# Extra Steps\n",
    "\n",
    "The confusion matrix, as it is presented above can be confusing (!) to interpret without labels. In this last step, I will show a graphical representation of the data and show the predicted outcomes vs what is actually derived. \n",
    "\n",
    "I used [this resource](https://www.datacamp.com/community/tutorials/understanding-logistic-regression-python) to be able to setup the confusion matrix using Matplotlib and Seaborn. "
   ]
  },
  {
   "cell_type": "code",
   "execution_count": 20,
   "metadata": {},
   "outputs": [
    {
     "data": {
      "text/plain": [
       "Text(0.5,257.44,'Predicted Result')"
      ]
     },
     "execution_count": 20,
     "metadata": {},
     "output_type": "execute_result"
    },
    {
     "data": {
      "image/png": "[encoded data removed]",
      "text/plain": [
       "<Figure size 432x288 with 2 Axes>"
      ]
     },
     "metadata": {
      "needs_background": "light"
     },
     "output_type": "display_data"
    }
   ],
   "source": [
    "import numpy as np\n",
    "import matplotlib.pyplot as plt\n",
    "import seaborn as sns\n",
    "\n",
    "class_names=[0,1] # name  of classes\n",
    "fig, ax = plt.subplots()\n",
    "tick_marks = np.arange(len(class_names))\n",
    "plt.xticks(tick_marks, class_names)\n",
    "plt.yticks(tick_marks, class_names)\n",
    "\n",
    "# create heatmap\n",
    "sns.heatmap(pd.DataFrame(matrix), annot=True, cmap=\"Blues\" ,fmt='g')\n",
    "ax.xaxis.set_label_position(\"top\")\n",
    "\n",
    "plt.tight_layout()\n",
    "plt.title('Confusion Matrix', y=1.1)\n",
    "plt.ylabel('Actual Result')\n",
    "plt.xlabel('Predicted Result')"
   ]
  },
  {
   "cell_type": "markdown",
   "metadata": {},
   "source": [
    "# Conclusion\n",
    "\n",
    "Overall, using a logistic regression model, I was able to predict the outcomes of the LCK dataset with 87.76% accuracy. Before I reached this outcome, I tested each independent variable seperately in the model. Coincidentally to my previous findings in the last two sections, the accuracy of the models were 75-77%. \n",
    "\n",
    "This project, start to finish, took me about a week to do. With the rise in esports data science and analyst demand, projects like this will show the importance of tracking player data and understanding the key defining metrics of an esport title."
   ]
  }
 ],
 "metadata": {
  "kernelspec": {
   "display_name": "Python 3",
   "language": "python",
   "name": "python3"
  },
  "language_info": {
   "codemirror_mode": {
    "name": "ipython",
    "version": 3
   },
   "file_extension": ".py",
   "mimetype": "text/x-python",
   "name": "python",
   "nbconvert_exporter": "python",
   "pygments_lexer": "ipython3",
   "version": "3.7.3"
  }
 },
 "nbformat": 4,
 "nbformat_minor": 2
}
